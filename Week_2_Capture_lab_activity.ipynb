{
  "nbformat": 4,
  "nbformat_minor": 0,
  "metadata": {
    "colab": {
      "provenance": []
    },
    "kernelspec": {
      "name": "python3",
      "display_name": "Python 3"
    },
    "language_info": {
      "name": "python"
    }
  },
  "cells": [
    {
      "cell_type": "markdown",
      "source": [
        "# Welcome to the CMNS 353 Lab: WEEK 2 - CAPTURE\n",
        "\n",
        "Last week, we talked about **Google Colab** and **Jupyter Notebook** and wrote our **first line of code**. Here is a recap:\n",
        "\n",
        "\n",
        "\n",
        "*   Google Colab is built on top of a piece of software called [Jupyter Notebooks](https://jupyter.org/). It is used to execute \"**live code\"** and **create** and **share** \"computational documents\" with step-by-step instructions. The code runs on Google's servers, not on your computer, so you don't need to install anything to run it. You can also use Google's massive computational capacity to run complex code with a lot of data.\n",
        "\n",
        "*   The language we will use to code in this course is called [Python](https://www.python.org/), a highly popular programming language within the data science community. It's worth noting that **Python is widely regarded as the easiest programming language for beginners**, and there are numerous online resources available to support your learning journey. This should give you confidence in your ability to grasp the basic concepts.\n",
        "\n",
        "\n",
        "\n",
        "\n",
        "\n",
        "\n"
      ],
      "metadata": {
        "id": "gQjw6vsxbpSM"
      }
    },
    {
      "cell_type": "markdown",
      "source": [
        "# Using Google Colab\n",
        "\n",
        "This file you are currently interacting with on Colab is a **notebook** (the extension .ipynb stands for \"interactive Python notebook\"). To **rename your notebook**,  click on the notebook name in the top left corner, and it will be editable, similar to a Google Doc. Like a Google Doc, everything you do in this file is saved automatically to your Google Drive. To **see all your notebooks**, go to your Google Drive and look for the folder \"Colab  Notebooks.\" All your notebooks are automatically saved inside this folder. Also, you can **share your notebook** with others by clicking the \"Share\"  button on the top right.\n",
        "\n",
        "Notebooks are made of **cells**: blocks of **text** (like this one)  or blocks of **code**. To **add a new cell**, click on one of the  \"+Code\" or  \"+Text\" buttons located under the file name (top left). A cell will be added under the cell you have currently selected (to select a cell, simply click anywhere on the cell). You can add how many cells you want, delete, move, copy and paste them throughout your notebook. These options are available on the menu that appears at the top right of the cell after you click on that cell. You can also use this menu to clear the output of a cell after a code execution.\n",
        "\n",
        "Sometimes, you might want to **interrupt a code** that is taking a long time to finish. To do that, go to the menu at the top of the notebook, select 'Runtime,' and select 'Interrupt Execution.'\n",
        "\n",
        "We will learn more features on Colab along the way.  For now, these features should be enough to get us started. Before continuing, **familiarize yourself with these features** by renaming your notebook and adding, deleting, and moving cells.\n",
        "\n",
        "\n",
        "\n",
        "\n",
        "\n",
        "\n",
        "\n",
        "\n",
        "\n",
        "\n",
        "\n"
      ],
      "metadata": {
        "id": "BPSZhefDcKfT"
      }
    },
    {
      "cell_type": "markdown",
      "source": [
        "# Writing your first line of code\n",
        "\n",
        "\n",
        "\n",
        "To **write code**, you have **two options**. You can either click on an existing cell with the play button or brackets [ ] on the far left (like the cell below) or use the '+Code' button on the top left to add a new cell for your code.\n",
        "\n",
        "Let's take a practical example. The cell below this one is a code cell. The code in this cell says `print('Hello world!')`, which **instructs the computer to display the sentence** 'Hello world!' **on the  screen**. This is a common first line of code when learning a new language, as it's a simple way to verify that your code is running correctly.\n",
        "\n",
        "**To try it out, press the Play button in the cell below.** This will execute the code in the cell and display the output below the cell. **If you don't see the Play button**, hover you mouse over the empty brackets [ ] and you should see the button appear.\n",
        "\n",
        "*p.s.: The first time you run a code, it will be slower because Colab will connect and load some code behind the scenes.*\n"
      ],
      "metadata": {
        "id": "alEuo-gScUTc"
      }
    },
    {
      "cell_type": "code",
      "source": [
        "print('Hello World!')"
      ],
      "metadata": {
        "id": "ag9FcELWcbd9"
      },
      "execution_count": null,
      "outputs": []
    },
    {
      "cell_type": "markdown",
      "source": [
        "\n",
        "**Did the sentence 'Hello World!' appear below the cell with the code** ` print('Hello world!')`**?**\n",
        "\n",
        "If yes, you're on the right path.\n",
        "\n",
        "See the **number [1]** that has now appeared between the previously empty brackets? This number is crucial, indicating how many times you've run the code in that cell (e.g. clicked the 'Play button'). Keep an eye on it as you run the code again, and you'll see the number change to [2], and so on. This number is a key tool, helping you stay focused and ensuring you haven't missed running any code as you progress through your notebook.\n",
        "\n",
        "\n",
        "\n",
        "\n",
        "It's essential to note that in Python programming, **text** like *Hello World!* **needs to be enclosed in quotation marks** (single or double). This is to ensure that Python recognizes it as text and not a command. Failing to do so might lead to misinterpretation of your code.\n",
        "\n",
        "For example, use the cell below to **try using double quotation** marks and a different text:\n",
        "\n"
      ],
      "metadata": {
        "id": "uLP8hRerker7"
      }
    },
    {
      "cell_type": "code",
      "source": [
        "print(\"I have just learned that text in Python needs to be between single or double quotation marks\")"
      ],
      "metadata": {
        "id": "sPUArlBKrB0r"
      },
      "execution_count": null,
      "outputs": []
    },
    {
      "cell_type": "markdown",
      "source": [
        "If you execute the code **without quotation marks** around the text, it will **issue an error** because the computer does not understand what you typed as text.Try this out by executing the code in the cell below:\n",
        "\n"
      ],
      "metadata": {
        "id": "1gQeK3uQrCPB"
      }
    },
    {
      "cell_type": "code",
      "source": [
        "print(A text without quotation marks will issue an error)"
      ],
      "metadata": {
        "id": "Bg_5iiD6rCnx"
      },
      "execution_count": null,
      "outputs": []
    },
    {
      "cell_type": "markdown",
      "source": [
        "The output of the error message is not just a notification of a problem, but a **guide** to the issue. It indicates the **line of code that has issued an error**, **replicates that line**, and tells you about the error. It says: 'syntax error: invalid syntax,' which gives you a clue about what the problem is. However, it's important to take the error description and suggestion with a grain of salt, as it is not always perfect. For example, here, the error suggests 'Perhaps you forgot a comma?' But that is not the case, as you forgot the quotation marks."
      ],
      "metadata": {
        "id": "OzPBeyatuNPt"
      }
    },
    {
      "cell_type": "markdown",
      "source": [
        "# Functions\n",
        "\n",
        "The first line of code you tried in the previous section uses the Python function ***print***. **A function is a pre-defined piece of code you can use to execute a specific task**. For example, the *print* function, as the name says, will print a text on the screen.\n",
        "\n",
        "Functions also have a pre-defined syntax:\n",
        "\n",
        "` function_name(data)`\n",
        "\n",
        "The **parenthesis** that follows a function **delimits what piece of data you will give to this function to execute the task**. In the case of the *print* function, the data you are giving to the function to work on the task is the text to print on the screen.\n",
        "\n",
        "Also, note that the word *print* is displayed in **beige**,  the *parenthesis* in **blue**, and the *text* in **red**. This colour distinction is not just for aesthetics, it plays a crucial role in understanding the programming language's syntax. It helps you identify **reserved keywords** and **characters** with special meanings from the data. You can't use reserved words for purposes other than issuing a command they are attached to or telling something specific to the computer.**One way to know a word or character is special is that you will see them displayed in different colours instead of black**.\n",
        "\n",
        "The *print* function is a **built-in function**, which means it comes pre-coded for you with Python. You can also **create your own functions** if there are pieces of code that execute tasks that you need frequently (so you don't have to write them again and again all the time). For now, we will be using built-in functions.\n",
        "\n",
        "In the next section, we will use the function ***input*** to get input from the user and use this input for further processing.\n",
        "\n",
        "\n",
        "\n",
        "\n"
      ],
      "metadata": {
        "id": "91sJYLaRo5VH"
      }
    },
    {
      "cell_type": "markdown",
      "source": [
        "#Variables\n",
        "\n",
        "In Python, functions can return data, which can then be stored in a ***variable*** for further processing by other functions. A **variable** is like a container that holds data. You can give any name to a variable except reserved names (we will go over these reserved names later). Every variable in Python also has a **data type**, which determines the kind of data it can hold.\n",
        "\n",
        "Data types include:\n",
        "\n",
        "**String** (e.g. a string of characters -- a text)\n",
        "\n",
        "**Integer** (e.g. positive and negative numbers)\n",
        "\n",
        "**Float** (e.g. decimal number)\n",
        "\n",
        "**Dictionaries** (e.g. a collection of several variables)\n",
        "\n",
        "**Lists** (e.g. a list of variables)\n",
        "\n",
        "\n",
        "Let's take a practical example. Imagine you want to **store your name in memory** for  further processing. You can do this by creating a variable named *name* and using the *input* function. The *input* function prompts the user to enter a text in a textbox, which in this case would be your name. This is a simple yet powerful way to interact with the user in your Python programs.\n",
        "\n",
        "Now, it's your turn to see this in action. Execute the code below (again, using the Play button). As you run it, a **textbox will appear**, where you can enter a text. This is the input function at work, prompting you for a text input. Simply fill the  textbox with  your name and **press enter** to finish the code execution. You're in control of the process!\n",
        "\n",
        "*P.S.: If you don't press enter after filling out the textbox, the code will keep running as it waits for input. The Play button will turn into a Stop button to tell you the code is still running.*"
      ],
      "metadata": {
        "id": "JWCUZAbPOjKe"
      }
    },
    {
      "cell_type": "code",
      "source": [
        "name = input('Enter your name in the textbox and press enter: ')\n",
        "\n",
        "print(\"My name is \" + name + \"!\")"
      ],
      "metadata": {
        "id": "3Oq5vjxMJ7uX"
      },
      "execution_count": null,
      "outputs": []
    },
    {
      "cell_type": "markdown",
      "source": [
        "Let's start with the first line of the code above. Here, I've **created a variable** called *name* and used the *input* function to **assign it a value** using the ***=*** **operator.** The *input* function, just like the *print* function, is straightforward to use. It takes text as data to display instructions for the user. In this case, I'm asking the user to enter their name in the textbox.\n",
        "\n",
        "Following the input function, we have the *print* function in the second line. This function is responsible for **displaying output to the user**. In the code, I've used it to print a sentence that includes my name. To **combine my name with the text**, I've used the **+ operator**.\n",
        "         \n",
        "To help you understand how variables work in Python, let's take a look at the '**Variable inspector**.' This tool, located in the left menu under the symbol ***{x}***, shows all the variables currently in **memory**. It provides information such as the variable's name, type, and shape. In our case, **you should see a variable named 'name'** with the **type** 'str' (short for string). The **shape** represents the number of characters in the name you entered when prompted.\n",
        "\n",
        "\n",
        "In addition to the variable inspector, you can also use the ***type*** function to verify the type of a variable. For example, try out running the code below:"
      ],
      "metadata": {
        "id": "wO2JG0XSHx2M"
      }
    },
    {
      "cell_type": "code",
      "source": [
        "type(name)"
      ],
      "metadata": {
        "id": "do4igXuLm0C0"
      },
      "execution_count": null,
      "outputs": []
    },
    {
      "cell_type": "markdown",
      "source": [
        "The output of the code above should display ***str***, which is short for the type *string*.\n",
        "\n",
        "But let's say that you want to create a variable that holds a **number** instead of text. You can do that by simply giving it a value using the **operator =**, for example, in the code below I put the number -1 in the variable x:"
      ],
      "metadata": {
        "id": "8esmuIJ220w-"
      }
    },
    {
      "cell_type": "code",
      "source": [
        "x = -1"
      ],
      "metadata": {
        "id": "ee-ZausMcis5"
      },
      "execution_count": null,
      "outputs": []
    },
    {
      "cell_type": "markdown",
      "source": [
        "After running the code above, you can open the **variable inspector** again to verify that variable ***x*** is there. You should see that ***x***'s type is **int** (which stands for Integer).\n",
        "\n",
        "You can also use the ***type*** function again to verify the type of the variable. For example, try running the code below:"
      ],
      "metadata": {
        "id": "GJ40n5VR5Ir1"
      }
    },
    {
      "cell_type": "code",
      "source": [
        "type(x)"
      ],
      "metadata": {
        "id": "XahlxIJ86Fy4"
      },
      "execution_count": null,
      "outputs": []
    },
    {
      "cell_type": "markdown",
      "source": [
        "Numbers can also be **decimal**, in which case Python considers it to be a type **float** instead of an integer.\n",
        "\n",
        "For example, try running the code below that assigns a decimal number to the variable ***z*** and verifies its type using the *type* function:"
      ],
      "metadata": {
        "id": "z3UTMwmd6KVH"
      }
    },
    {
      "cell_type": "code",
      "source": [
        "z = 3.4\n",
        "\n",
        "type(z)"
      ],
      "metadata": {
        "id": "U2_qTRHA6WLF"
      },
      "execution_count": null,
      "outputs": []
    },
    {
      "cell_type": "markdown",
      "source": [
        "Remember, you can also use the **variable inspector** in the left menu to see the type Python has given to your variable.\n",
        "\n",
        "Most of the time, Python automatically detects the variable type, whether text or a number. But sometimes, you need to tell Python the variable type or convert it so you can use it.\n",
        "\n",
        "For example, let’s say we want the *print* function to print some text with my variable *x* (remember, *x* an *integer* type) as I did with the name.\n",
        "\n",
        "Try executing the code below, which is similar to the one we used previously with the variable *name* :"
      ],
      "metadata": {
        "id": "QJ-KSF_L7JMx"
      }
    },
    {
      "cell_type": "code",
      "source": [
        "print(\"The value inside the variable x is: \" + x)"
      ],
      "metadata": {
        "id": "x0old-i081-q"
      },
      "execution_count": null,
      "outputs": []
    },
    {
      "cell_type": "markdown",
      "source": [
        "As a result, you will encounter an error like this: *'can only concatenate str (not \"int\") to str.'*\n",
        "\n",
        "This error occurs when you try to combine **two different types** of variables, such as a text (string or str) and a number (an integer or int). Python is simply reminding us that it **can't add different types** of variables together.\n",
        "\n",
        "The **solution** to this error is straightforward. You just need to **convert the value** in variable *x* to text (or string) using a function called *str*.\n",
        "\n",
        "Let's try it out with the code below, and you'll see how easy it is to display the text and the number in variable x as part of the text:"
      ],
      "metadata": {
        "id": "5JhxoJT28cC2"
      }
    },
    {
      "cell_type": "code",
      "source": [
        "print(\"The value inside the variable x is: \" + str(x))"
      ],
      "metadata": {
        "id": "fgLtZZ9r--hu"
      },
      "execution_count": null,
      "outputs": []
    },
    {
      "cell_type": "markdown",
      "source": [
        "Let's go over **another example**.\n",
        "\n",
        "In the code below, I will use the *input* function again to get the user to give me the value of a number and put this value in a variable named *y*.\n",
        "\n",
        "**Run the code below**, type a number and press enter, and then **check the variable inspector** to see the type Python has given to the variable *y* :"
      ],
      "metadata": {
        "id": "poyVEc03AXdt"
      }
    },
    {
      "cell_type": "code",
      "source": [
        "y = input(\"Please enter a value (number) for y: \")"
      ],
      "metadata": {
        "id": "Ox-cfZQTAin0"
      },
      "execution_count": null,
      "outputs": []
    },
    {
      "cell_type": "markdown",
      "source": [
        "Now **check the variable inspector**.\n",
        "\n",
        "You will notice that Python has given ***y*** a *string type* even though you have entered a number. This is because the ***input*** **function** **converts anything you enter in the textbox to a type string**.\n",
        "\n",
        "So try now running the code below to ***add*** the variable *y* (a string) to the previous variable *x* (an integer) and putting this value in a new variable called *sum* :"
      ],
      "metadata": {
        "id": "hhS6M9m1Au9A"
      }
    },
    {
      "cell_type": "code",
      "source": [
        "sum = x + y"
      ],
      "metadata": {
        "id": "eCOAyN3GBcjN"
      },
      "execution_count": null,
      "outputs": []
    },
    {
      "cell_type": "markdown",
      "source": [
        "As a result, you will encounter an error like this: *unsupported operand type(s) for +: 'int' and 'str*\n",
        "\n",
        "This error occurs again when you **try to add two different types of variables**, such as *text* (string or str) and a *number* (an integer or int). Python simply reminds us that it can't add different types of variables together.\n",
        "\n",
        "In this case, there are **two solutions**. First, I can **convert x** from integer to string, and then the variable *sum* will treat both *x* and *y* as text and **add them together like text**.\n",
        "\n",
        "For example, run the code below and observe the result:"
      ],
      "metadata": {
        "id": "lmCqS7ztCpss"
      }
    },
    {
      "cell_type": "code",
      "source": [
        "sum = str(x) + y\n",
        "\n",
        "print (sum)"
      ],
      "metadata": {
        "id": "VQL676VcC_Pb"
      },
      "execution_count": null,
      "outputs": []
    },
    {
      "cell_type": "markdown",
      "source": [
        "The second solution is to **convert *y*** from string to number, and the variable *sum* will treat both x and y as numbers and perform a **mathematical operation** instead of adding them together as a text.\n",
        "\n",
        "For example, run the code below and observe the result:"
      ],
      "metadata": {
        "id": "1QyloT1QBkDI"
      }
    },
    {
      "cell_type": "code",
      "source": [
        "sum = x + int(y)\n",
        "\n",
        "print(sum)"
      ],
      "metadata": {
        "id": "RZS6qZ1eDUkt"
      },
      "execution_count": null,
      "outputs": []
    },
    {
      "cell_type": "markdown",
      "source": [
        "**Remember:** what is happening here with these variable-type conversions is a work of **interpretation of data**. Python interprets some data automatically for us, but in some cases, we have to give it instructions on how to interpret the data.\n",
        "\n",
        "In class, we discussed the various **layers** of human interaction that **shape the data**: the first layer is our **imagination** of data, and the second layer is the **tool** we use to communicate this imagination (for example, the ERD). The **programming language is the third layer that shapes the data**, now directly with the computer. We have to use what Python offers and **fit our imagination** of data into these **data types** and **structures** so that the computer can understand.\n",
        "\n",
        "Next, we will investigate data structures, which can bring together many variables to represent an entity.\n"
      ],
      "metadata": {
        "id": "aIjiW6HMEjZm"
      }
    },
    {
      "cell_type": "markdown",
      "source": [
        "# Data structures: the dictionary\n",
        "\n",
        "\n",
        "Let's delve into a more advanced **data structure**: the **dictionary**.\n",
        "\n",
        "Dictionaries are collections of data, so you can **put many variables together** to represent a more complex dataset. For example, in class today, I showed you an entity called 'Student.' For that entity, I had imagined having the following attributes: First Name, a Last Name, an ID, an address and a Date of Birth. So, I need to think of how those 5 attributes would be represented in Python and think of which type they will be. Here is my definition:\n",
        "\n",
        "Student:\n",
        "\n",
        "* First Name (type: string)\n",
        "* Last Name (type: string)\n",
        "* ID (type: number)\n",
        "* Address (type: string)\n",
        "* Date of birth (type: date)\n",
        "\n",
        "\n",
        "The way I define the student dictionary as a data structure is specified in the cell below. **Run the code below and look at the variable inspector** to see how the variable student looks like. You can also use the following cell to display the contents in the student dictionary using the print function.\n",
        "\n"
      ],
      "metadata": {
        "id": "3caQoLd8cnsk"
      }
    },
    {
      "cell_type": "code",
      "source": [
        "student = {\n",
        "    \"First name\": \"Carina\",\n",
        "    \"Last name\": \"Albrecht\",\n",
        "    \"ID\": 30114455,\n",
        "    \"Address\": \"One street, 2\"\n",
        "}"
      ],
      "metadata": {
        "id": "Pq0GZmGBh3Iu"
      },
      "execution_count": null,
      "outputs": []
    },
    {
      "cell_type": "code",
      "source": [
        "print(student)"
      ],
      "metadata": {
        "id": "0bhlqhWCkKRO"
      },
      "execution_count": null,
      "outputs": []
    },
    {
      "cell_type": "markdown",
      "source": [
        "Note the similarities and differences in **syntax** when defining a dictionary.\n",
        "\n",
        "First, *student* is the name of my dictionary, which is like **a variable that holds together several variables**. To assign values to it, I use the ***= operator***, which is a way of saying *student* is equal to the following dictionary.\n",
        "\n",
        "Then I put the variables together using **curly brackets {  }**, which now appears in blue because these are reserved characters for dictionaries. Then, I define a **label** for each of my variables, this time using a text (that is why they are between quotation marks), and use a **semi-colon** to assign a value to that variable. I use **quotation marks again for text data** and **no quotation marks for numbers**. A **comma** also **separates each variable**. Note that there is no comma after the last variable.\n",
        "\n",
        "In this first example, I have not yet defined the date of birth, which I will introduce later.\n",
        "\n",
        "Now that I have the dictionary defined, I could either access the entire dictionary (like I did with the print function above) or **each item in the dictionary using its label**. For example, run each cell below to see the results. Each should display a unique variable inside the dictionary student.\n",
        "\n"
      ],
      "metadata": {
        "id": "_WSVzLmtiwiw"
      }
    },
    {
      "cell_type": "code",
      "source": [
        "print(student[\"First name\"])"
      ],
      "metadata": {
        "id": "EZcY7s-wkJuX"
      },
      "execution_count": null,
      "outputs": []
    },
    {
      "cell_type": "code",
      "source": [
        "print(student[\"Last name\"])"
      ],
      "metadata": {
        "id": "0AfJVjBnmn4-"
      },
      "execution_count": null,
      "outputs": []
    },
    {
      "cell_type": "code",
      "source": [
        "print(student[\"ID\"])"
      ],
      "metadata": {
        "id": "UmNb8GjUmvl5"
      },
      "execution_count": null,
      "outputs": []
    },
    {
      "cell_type": "code",
      "source": [
        "print(student[\"Address\"])"
      ],
      "metadata": {
        "id": "rgYdfgdVmqqp"
      },
      "execution_count": null,
      "outputs": []
    },
    {
      "cell_type": "markdown",
      "source": [
        "I could also use **variables** to assign values to the dictionary, instead of writing the values inside the dictionary structure.\n",
        "\n",
        "For example, I can define **each variable separatly and then put them in a dictionary** right after. **Run the code below**, and look at the variable inspector to see each separate variable, and then observe them inside the student dictionary."
      ],
      "metadata": {
        "id": "Z7B78Wg8n1FH"
      }
    },
    {
      "cell_type": "code",
      "source": [
        "first_name = \"Joe\"\n",
        "last_name = \"Doe\"\n",
        "id = 22334455\n",
        "address = \"Blueberry Lane, 3\""
      ],
      "metadata": {
        "id": "1J--kKb4n97w"
      },
      "execution_count": null,
      "outputs": []
    },
    {
      "cell_type": "code",
      "source": [
        "student = {\n",
        "    \"First name\": first_name,\n",
        "    \"Last name\": last_name,\n",
        "    \"ID\": id,\n",
        "    \"Address\": address\n",
        "}"
      ],
      "metadata": {
        "id": "H0T6kwKQoNIF"
      },
      "execution_count": null,
      "outputs": []
    },
    {
      "cell_type": "code",
      "source": [
        "print(student)"
      ],
      "metadata": {
        "id": "Mrjm2OZ9oXW-"
      },
      "execution_count": null,
      "outputs": []
    },
    {
      "cell_type": "markdown",
      "source": [
        "**Did you notice the difference in the syntax?**\n",
        "\n",
        "In this last version of the code, I first defined *first_name*, *last_name*, *id* and *address* as separate variables. So, I assigned the values to each before putting them together in a dictionary. **Either way of coding the dictionary works**, but you might find yourself using the second version more if you want to add many different values to a dictionary using a **for-loop** (which we will learn to do later in the course)."
      ],
      "metadata": {
        "id": "OAYlHFklpBV0"
      }
    },
    {
      "cell_type": "markdown",
      "source": [
        "# Working with *Date* data type and libraries\n",
        "\n",
        "Let's explore another data type: **date**. *Dates* are not just numbers or strings but a unique type of variable that can hold specific information about dates.\n",
        "\n",
        "*Dates* require more sophisticated code because they might have different formatting depending on country and location. To work with dates, you have to first **import** a Python library called ***datetime***.\n",
        "\n",
        "**Libraries are collections of pre-written functions** that come with the language or were written by others. If one day you write a code that is useful for many, you can create a library and make it available for others to use. Libraries are intended to provide various tools and modules for various tasks,  making it easier for developers to work on specific tasks without reinventing the wheel. Countless libraries are available in Python, so not all are automatically added to your notebook to avoid overload. You have to specifically 'import' them to access the code.\n",
        "\n",
        "The command to import a library is:\n",
        "\n",
        "`import library_name`\n",
        "\n",
        "\n",
        "For example, **observe and run the code in the cell below**.\n",
        "\n",
        "First, it will **import** the *datetime* library for you through the command `import datetime`.\n",
        "\n",
        "Then, to define a date, a **function** from the *datetime* library called *date* will be used. To use the function from the library, you need to type its **name followed by a dot and the function name** (i.e.: `libraryname.functionname`):\n",
        "\n",
        "\n",
        "\n",
        "\n",
        "\n",
        "\n"
      ],
      "metadata": {
        "id": "CkaiuvzkuInX"
      }
    },
    {
      "cell_type": "code",
      "source": [
        "import datetime\n",
        "\n",
        "date_of_birth = datetime.date(1999,9,1)\n",
        "\n",
        "print(date_of_birth)"
      ],
      "metadata": {
        "id": "-EtOfJ71imPF"
      },
      "execution_count": null,
      "outputs": []
    },
    {
      "cell_type": "markdown",
      "source": [
        "Now that you've successfully executed the code in the cell above, take a moment to observe how the print function **displays** the date (YYYY-MM-DD). You can also **open the variable inspector** and see for yourself: date_of_birth has now transformed into a date variable.\n",
        "\n",
        "The date type also offers a straightforward way to access the *day*, *month*, and *year* **separately**. To illustrate this,  run the code in the following three cells and  observe the results for each of them:"
      ],
      "metadata": {
        "id": "qgShIXsOvG5e"
      }
    },
    {
      "cell_type": "code",
      "source": [
        "print(date_of_birth.day)"
      ],
      "metadata": {
        "id": "tTyY1aBqwcJO"
      },
      "execution_count": null,
      "outputs": []
    },
    {
      "cell_type": "code",
      "source": [
        "print(date_of_birth.month)"
      ],
      "metadata": {
        "id": "g9Pj-u6swh-k"
      },
      "execution_count": null,
      "outputs": []
    },
    {
      "cell_type": "code",
      "source": [
        "print(date_of_birth.year)"
      ],
      "metadata": {
        "id": "MOkxgFYBwjtR"
      },
      "execution_count": null,
      "outputs": []
    },
    {
      "cell_type": "markdown",
      "source": [
        "\n",
        "Further, if you desire to present the date in a **different format**, such as DD-MM-YYY instead of YYYY-MM-DD, the *strftime* function offers the flexibility to specify the desired format. For instance, refer to the code in the cell below to learn how to display a date variable in DD-MM-YYYY format:"
      ],
      "metadata": {
        "id": "dAMBtuUMzfhv"
      }
    },
    {
      "cell_type": "code",
      "source": [
        "print(date_of_birth.strftime(\"%d-%m-%Y\"))"
      ],
      "metadata": {
        "id": "kMCBjsSgwlek"
      },
      "execution_count": null,
      "outputs": []
    },
    {
      "cell_type": "markdown",
      "source": [
        "#Adding the date of birth to the student dictionary\n",
        "\n",
        "\n",
        "Now that you have created a date-type variable, we can **add it to the student dictionary** we created earlier.\n",
        "\n",
        "To do that, it's very simple: simply write down a **new label** for the *student* dictionary called \"Date of birth\" (or give it any other name you wish) and assign the **variable** *date_of_birth* to that dictionary label.\n",
        "\n",
        "For example, **observe and run the code below**, which defines this new dictionary item and prints the entire student dictionary to show that the date of birth was added to the end of the data structure.\n",
        "\n",
        "As always, you can also check the variable inspector to see how the *student* dictionary has changed.\n",
        "\n"
      ],
      "metadata": {
        "id": "Gh23Np-MxkF2"
      }
    },
    {
      "cell_type": "code",
      "execution_count": null,
      "metadata": {
        "id": "oaILYvnwbTB6"
      },
      "outputs": [],
      "source": [
        "student[\"Date of birth\"] = date_of_birth\n",
        "\n",
        "print(student)"
      ]
    },
    {
      "cell_type": "markdown",
      "source": [
        "\n",
        "Now that the date of birth is part of the *student* dictionary, you can refer to the label directly in your code as if it were the variable date of birth.\n",
        "\n",
        "For example, you can access the date's *day*, *month* or *year* attributes separately by using **.day**, **.month** or **.year**, or function such as *strftime*. Observe and run the code in the cells below to see this working in real-time:"
      ],
      "metadata": {
        "id": "DZ81eYNm2XwB"
      }
    },
    {
      "cell_type": "code",
      "source": [
        "print(student[\"Date of birth\"].day)"
      ],
      "metadata": {
        "id": "FPxEl-UA0H1s"
      },
      "execution_count": null,
      "outputs": []
    },
    {
      "cell_type": "code",
      "source": [
        "print(student[\"Date of birth\"].month)"
      ],
      "metadata": {
        "id": "TbYHoZDC0QDe"
      },
      "execution_count": null,
      "outputs": []
    },
    {
      "cell_type": "code",
      "source": [
        "print(student[\"Date of birth\"].year)"
      ],
      "metadata": {
        "id": "m3bCAQ8L0RcR"
      },
      "execution_count": null,
      "outputs": []
    },
    {
      "cell_type": "code",
      "source": [
        "print(student[\"Date of birth\"].strftime(\"%d-%m-%Y\"))"
      ],
      "metadata": {
        "id": "D0dkimYv0Svg"
      },
      "execution_count": null,
      "outputs": []
    },
    {
      "cell_type": "markdown",
      "source": [
        "#**Exercise**: create a dictionary that describes the classroom entity you created earlier in class with your group"
      ],
      "metadata": {
        "id": "SFEiq-ouxrrp"
      }
    },
    {
      "cell_type": "markdown",
      "source": [
        "Use the Entity-Relationship-Diagram you built earlier with your group to **create a dictionary definition for the entity *classroom*** . Remember first to consider each **attribute** and what **data types** are more suitable for them. You can also use AI to help you with this task."
      ],
      "metadata": {
        "id": "KRRJuPzm25gB"
      }
    },
    {
      "cell_type": "code",
      "source": [
        "#add your code here"
      ],
      "metadata": {
        "id": "_OOBd-Zv4W9F"
      },
      "execution_count": null,
      "outputs": []
    },
    {
      "cell_type": "code",
      "source": [
        "#@title Double click here to reveal a possible solution\n",
        "\n",
        "room_number = 'K8652'\n",
        "building = 'K'\n",
        "campus = \"Burnaby\"\n",
        "floor = 8\n",
        "capacity = 30\n",
        "computers = 1\n",
        "\n",
        "\n",
        "classroom = {\n",
        "    \"Room number\": room_number,\n",
        "    \"Building\": building,\n",
        "    \"Campus\": campus,\n",
        "    \"Floor\": floor,\n",
        "    \"Room capacity\": capacity,\n",
        "    \"Number of computers\": computers\n",
        "}\n",
        "\n",
        "print(classroom)"
      ],
      "metadata": {
        "cellView": "form",
        "id": "ldX-V6bw41gV"
      },
      "execution_count": null,
      "outputs": []
    }
  ]
}